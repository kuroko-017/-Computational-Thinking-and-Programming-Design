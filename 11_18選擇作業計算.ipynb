{
  "nbformat": 4,
  "nbformat_minor": 0,
  "metadata": {
    "colab": {
      "name": "11/18選擇作業計算.ipynb",
      "provenance": [],
      "include_colab_link": true
    },
    "kernelspec": {
      "name": "python3",
      "display_name": "Python 3"
    }
  },
  "cells": [
    {
      "cell_type": "markdown",
      "metadata": {
        "id": "view-in-github",
        "colab_type": "text"
      },
      "source": [
        "<a href=\"https://colab.research.google.com/github/kuroko-017/-Computational-Thinking-and-Programming-Design/blob/master/11_18%E9%81%B8%E6%93%87%E4%BD%9C%E6%A5%AD%E8%A8%88%E7%AE%97.ipynb\" target=\"_parent\"><img src=\"https://colab.research.google.com/assets/colab-badge.svg\" alt=\"Open In Colab\"/></a>"
      ]
    },
    {
      "cell_type": "code",
      "metadata": {
        "id": "kTDkzPkW3pUR",
        "colab_type": "code",
        "colab": {
          "base_uri": "https://localhost:8080/",
          "height": 34
        },
        "outputId": "875d758e-4d6a-4f4e-cefc-e94170a370fe"
      },
      "source": [
        "a = [1, 2, 3, 4, 5]\n",
        "print(a[2])"
      ],
      "execution_count": 1,
      "outputs": [
        {
          "output_type": "stream",
          "text": [
            "3\n"
          ],
          "name": "stdout"
        }
      ]
    },
    {
      "cell_type": "code",
      "metadata": {
        "id": "e5YTgkSF30iD",
        "colab_type": "code",
        "colab": {
          "base_uri": "https://localhost:8080/",
          "height": 34
        },
        "outputId": "0846a024-c9bb-4be1-d362-c57d824f1715"
      },
      "source": [
        "a = [1, 2, 3, 4, 5]\n",
        "print (len(a))"
      ],
      "execution_count": 5,
      "outputs": [
        {
          "output_type": "stream",
          "text": [
            "5\n"
          ],
          "name": "stdout"
        }
      ]
    },
    {
      "cell_type": "code",
      "metadata": {
        "id": "9yPzpug33-df",
        "colab_type": "code",
        "colab": {
          "base_uri": "https://localhost:8080/",
          "height": 34
        },
        "outputId": "56efc156-99dd-4a7c-f581-93c372031198"
      },
      "source": [
        "a = [1, 2, 3, 4, 5]\n",
        "print (max(a))"
      ],
      "execution_count": 6,
      "outputs": [
        {
          "output_type": "stream",
          "text": [
            "5\n"
          ],
          "name": "stdout"
        }
      ]
    },
    {
      "cell_type": "code",
      "metadata": {
        "id": "UHUfZeb74f1S",
        "colab_type": "code",
        "colab": {
          "base_uri": "https://localhost:8080/",
          "height": 34
        },
        "outputId": "e82e0f76-ad3a-4d93-9287-0b65f5c61866"
      },
      "source": [
        "a = range(10, 51, 10)\n",
        "print(a[1])"
      ],
      "execution_count": 7,
      "outputs": [
        {
          "output_type": "stream",
          "text": [
            "20\n"
          ],
          "name": "stdout"
        }
      ]
    },
    {
      "cell_type": "code",
      "metadata": {
        "id": "C018wtAg7ffU",
        "colab_type": "code",
        "colab": {
          "base_uri": "https://localhost:8080/",
          "height": 178
        },
        "outputId": "8a1da6e7-a301-44ef-eb99-0d1fba9879c4"
      },
      "source": [
        " a = range(51, 10, 10)\n",
        " print(a[1])"
      ],
      "execution_count": 10,
      "outputs": [
        {
          "output_type": "error",
          "ename": "IndexError",
          "evalue": "ignored",
          "traceback": [
            "\u001b[0;31m---------------------------------------------------------------------------\u001b[0m",
            "\u001b[0;31mIndexError\u001b[0m                                Traceback (most recent call last)",
            "\u001b[0;32m<ipython-input-10-16964c5fb0cc>\u001b[0m in \u001b[0;36m<module>\u001b[0;34m()\u001b[0m\n\u001b[1;32m      1\u001b[0m \u001b[0ma\u001b[0m \u001b[0;34m=\u001b[0m \u001b[0mrange\u001b[0m\u001b[0;34m(\u001b[0m\u001b[0;36m51\u001b[0m\u001b[0;34m,\u001b[0m \u001b[0;36m10\u001b[0m\u001b[0;34m,\u001b[0m \u001b[0;36m10\u001b[0m\u001b[0;34m)\u001b[0m\u001b[0;34m\u001b[0m\u001b[0;34m\u001b[0m\u001b[0m\n\u001b[0;32m----> 2\u001b[0;31m \u001b[0mprint\u001b[0m\u001b[0;34m(\u001b[0m\u001b[0ma\u001b[0m\u001b[0;34m[\u001b[0m\u001b[0;36m1\u001b[0m\u001b[0;34m]\u001b[0m\u001b[0;34m)\u001b[0m\u001b[0;34m\u001b[0m\u001b[0;34m\u001b[0m\u001b[0m\n\u001b[0m",
            "\u001b[0;31mIndexError\u001b[0m: range object index out of range"
          ]
        }
      ]
    },
    {
      "cell_type": "code",
      "metadata": {
        "id": "aIMOraIJ7m2l",
        "colab_type": "code",
        "colab": {
          "base_uri": "https://localhost:8080/",
          "height": 34
        },
        "outputId": "52a6a36c-d411-4717-a4ad-62d0a8d5f54b"
      },
      "source": [
        "p = 1\n",
        "for x in range(5, 0, -1):\n",
        "  p = p * x\n",
        "print(p)"
      ],
      "execution_count": 13,
      "outputs": [
        {
          "output_type": "stream",
          "text": [
            "120\n"
          ],
          "name": "stdout"
        }
      ]
    },
    {
      "cell_type": "code",
      "metadata": {
        "id": "zwewx5DT8tHo",
        "colab_type": "code",
        "colab": {
          "base_uri": "https://localhost:8080/",
          "height": 34
        },
        "outputId": "da03b4c0-620a-4f8d-bc49-68f1cde88b31"
      },
      "source": [
        "p = 1\n",
        "for x in range(5):\n",
        " p = p * x\n",
        "print(p)"
      ],
      "execution_count": 12,
      "outputs": [
        {
          "output_type": "stream",
          "text": [
            "0\n"
          ],
          "name": "stdout"
        }
      ]
    },
    {
      "cell_type": "code",
      "metadata": {
        "id": "XMIb5hwI86Ju",
        "colab_type": "code",
        "colab": {
          "base_uri": "https://localhost:8080/",
          "height": 34
        },
        "outputId": "583ce2aa-8341-48d0-d663-3bd5e2f80538"
      },
      "source": [
        "p = 1\n",
        "x = 5\n",
        "while x >= 0:\n",
        " p = p * x\n",
        " x = x - 1\n",
        "print(p)"
      ],
      "execution_count": 14,
      "outputs": [
        {
          "output_type": "stream",
          "text": [
            "0\n"
          ],
          "name": "stdout"
        }
      ]
    },
    {
      "cell_type": "code",
      "metadata": {
        "id": "LTvOxWBC9Dnl",
        "colab_type": "code",
        "colab": {
          "base_uri": "https://localhost:8080/",
          "height": 34
        },
        "outputId": "ceaa62f4-31f8-4b85-900f-1e1ae5a3b184"
      },
      "source": [
        "p = 1\n",
        "for x in range(5, 1, -1):\n",
        " p = p + x\n",
        "print(p)"
      ],
      "execution_count": 15,
      "outputs": [
        {
          "output_type": "stream",
          "text": [
            "15\n"
          ],
          "name": "stdout"
        }
      ]
    },
    {
      "cell_type": "code",
      "metadata": {
        "id": "7rVBkery9Kdi",
        "colab_type": "code",
        "colab": {}
      },
      "source": [
        "def f (n):\n",
        " p = 1\n",
        " for x in range(n, 0, -1):\n",
        "   p = p * x\n",
        "   print(p)\n",
        " f(5)"
      ],
      "execution_count": 0,
      "outputs": []
    },
    {
      "cell_type": "code",
      "metadata": {
        "id": "KUHPN8rL9Ucj",
        "colab_type": "code",
        "colab": {}
      },
      "source": [
        "def mm(n1, n2):\n",
        "  if n1 > n2:\n",
        "     return n1\n",
        "  else:\n",
        "     return n2\n",
        "     a = 10\n",
        "     b = 20\n",
        "     print(mm(a, b))"
      ],
      "execution_count": 0,
      "outputs": []
    },
    {
      "cell_type": "code",
      "metadata": {
        "id": "sVsqFb7z9ufl",
        "colab_type": "code",
        "colab": {}
      },
      "source": [
        "def mm(n1, n2):\n",
        "  if n1 > n2:\n",
        "     return n1\n",
        "  else:\n",
        "     return n2\n",
        "     a = 10\n",
        "     b = 20\n",
        "     print(mm(a, b))"
      ],
      "execution_count": 0,
      "outputs": []
    },
    {
      "cell_type": "code",
      "metadata": {
        "id": "ShM-DDCQ-gho",
        "colab_type": "code",
        "colab": {
          "base_uri": "https://localhost:8080/",
          "height": 34
        },
        "outputId": "672ea787-19c9-42bb-a2e6-feb99d72c37a"
      },
      "source": [
        "a = 13\n",
        "print(a >> 2)"
      ],
      "execution_count": 33,
      "outputs": [
        {
          "output_type": "stream",
          "text": [
            "3\n"
          ],
          "name": "stdout"
        }
      ]
    },
    {
      "cell_type": "code",
      "metadata": {
        "id": "ocYb16on_rnq",
        "colab_type": "code",
        "colab": {
          "base_uri": "https://localhost:8080/",
          "height": 34
        },
        "outputId": "f1d60662-c95d-4dfc-99e6-d489386f8efb"
      },
      "source": [
        "a = [1, 2, 3, 4, 5]\n",
        "print(a[2] + a[3])"
      ],
      "execution_count": 35,
      "outputs": [
        {
          "output_type": "stream",
          "text": [
            "7\n"
          ],
          "name": "stdout"
        }
      ]
    },
    {
      "cell_type": "code",
      "metadata": {
        "id": "41U-rC4BAAC5",
        "colab_type": "code",
        "colab": {
          "base_uri": "https://localhost:8080/",
          "height": 34
        },
        "outputId": "30aee007-f34c-466c-9bb6-17262424020b"
      },
      "source": [
        "p = 1\n",
        "x = 5\n",
        "while x >= 1:\n",
        " p = p * x\n",
        " x = x - 2\n",
        "print(p)"
      ],
      "execution_count": 36,
      "outputs": [
        {
          "output_type": "stream",
          "text": [
            "15\n"
          ],
          "name": "stdout"
        }
      ]
    },
    {
      "cell_type": "code",
      "metadata": {
        "id": "8P6A1UkfAJjb",
        "colab_type": "code",
        "colab": {
          "base_uri": "https://localhost:8080/",
          "height": 34
        },
        "outputId": "781eec0b-9303-4d36-ea42-fa78750dbcee"
      },
      "source": [
        "a = [1, 2, 3, 4, 5]\n",
        "print(min(a))"
      ],
      "execution_count": 38,
      "outputs": [
        {
          "output_type": "stream",
          "text": [
            "1\n"
          ],
          "name": "stdout"
        }
      ]
    },
    {
      "cell_type": "code",
      "metadata": {
        "id": "l5eXkHMBAr0D",
        "colab_type": "code",
        "colab": {}
      },
      "source": [
        ""
      ],
      "execution_count": 0,
      "outputs": []
    }
  ]
}