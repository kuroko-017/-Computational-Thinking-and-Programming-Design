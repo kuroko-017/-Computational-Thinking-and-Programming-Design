{
  "nbformat": 4,
  "nbformat_minor": 0,
  "metadata": {
    "colab": {
      "name": "week16-A108260039-陳垣均.ipynb",
      "provenance": [],
      "include_colab_link": true
    },
    "kernelspec": {
      "name": "python3",
      "display_name": "Python 3"
    }
  },
  "cells": [
    {
      "cell_type": "markdown",
      "metadata": {
        "id": "view-in-github",
        "colab_type": "text"
      },
      "source": [
        "<a href=\"https://colab.research.google.com/github/kuroko-017/-Computational-Thinking-and-Programming-Design/blob/master/week16_A108260039_%E9%99%B3%E5%9E%A3%E5%9D%87.ipynb\" target=\"_parent\"><img src=\"https://colab.research.google.com/assets/colab-badge.svg\" alt=\"Open In Colab\"/></a>"
      ]
    },
    {
      "cell_type": "code",
      "metadata": {
        "id": "LuJfuP9NusuE",
        "colab_type": "code",
        "colab": {
          "base_uri": "https://localhost:8080/",
          "height": 85
        },
        "outputId": "7c8e18db-9f5d-416e-a1dd-77881e5380e7"
      },
      "source": [
        "answer=\"b246\"\n",
        "while True:\n",
        "  password=input(\"Enter your password?\")\n",
        "  if password==answer:\n",
        "    print(\"ENTER THE SYSTEM\")\n",
        "    break\n",
        "  else:\n",
        "    print(\"Try Again\")"
      ],
      "execution_count": 3,
      "outputs": [
        {
          "output_type": "stream",
          "text": [
            "Enter your password?246\n",
            "Try Again\n",
            "Enter your password?b246\n",
            "ENTER THE SYSTEM\n"
          ],
          "name": "stdout"
        }
      ]
    },
    {
      "cell_type": "code",
      "metadata": {
        "id": "AsBhTGZ7vpGc",
        "colab_type": "code",
        "colab": {
          "base_uri": "https://localhost:8080/",
          "height": 68
        },
        "outputId": "622ef9dd-25e6-475f-e24f-2582e4516778"
      },
      "source": [
        "while True:\n",
        "  acc=input('請輸入帳號?')\n",
        "  pwd=input('請輸入密碼?')\n",
        "  if(acc=='abc' and pwd=='123'):\n",
        "    print('帳號與密碼正確')\n",
        "    break\n",
        "  else:\n",
        "    print('登入失敗')"
      ],
      "execution_count": 4,
      "outputs": [
        {
          "output_type": "stream",
          "text": [
            "請輸入帳號?abc\n",
            "請輸入密碼?123\n",
            "帳號與密碼正確\n"
          ],
          "name": "stdout"
        }
      ]
    },
    {
      "cell_type": "code",
      "metadata": {
        "id": "j7_kkNVOxXIx",
        "colab_type": "code",
        "colab": {
          "base_uri": "https://localhost:8080/",
          "height": 102
        },
        "outputId": "71c6a9a2-1db7-460a-f06f-33a1be88e633"
      },
      "source": [
        "range(5)\n",
        "range(3)\n",
        "range(2,5)\n",
        "range(8,10)\n",
        "range(2,10,3)\n",
        "for i in range(5):\n",
        "  print(i)"
      ],
      "execution_count": 5,
      "outputs": [
        {
          "output_type": "stream",
          "text": [
            "0\n",
            "1\n",
            "2\n",
            "3\n",
            "4\n"
          ],
          "name": "stdout"
        }
      ]
    },
    {
      "cell_type": "code",
      "metadata": {
        "id": "MEkdnsju3zwx",
        "colab_type": "code",
        "colab": {
          "base_uri": "https://localhost:8080/",
          "height": 204
        },
        "outputId": "72c55756-d7f6-41d4-f274-5f9b4cc5010e"
      },
      "source": [
        "for i in range(5):\n",
        "  print(i)\n",
        "for i in range(2,5):\n",
        "  print(i)\n",
        "for i in range(2,10,3):\n",
        "  print(i)"
      ],
      "execution_count": 6,
      "outputs": [
        {
          "output_type": "stream",
          "text": [
            "0\n",
            "1\n",
            "2\n",
            "3\n",
            "4\n",
            "2\n",
            "3\n",
            "4\n",
            "2\n",
            "5\n",
            "8\n"
          ],
          "name": "stdout"
        }
      ]
    },
    {
      "cell_type": "code",
      "metadata": {
        "id": "G3vSdFaA45-p",
        "colab_type": "code",
        "colab": {
          "base_uri": "https://localhost:8080/",
          "height": 136
        },
        "outputId": "78547b9b-4915-4f6e-b4f7-df11668d48e1"
      },
      "source": [
        "start=int(input(\"Enter a number?\"))\n",
        "end=int(input(\"enter a number?\"))\n",
        "step=int(input(\"enter a number?\"))\n",
        "sum=0\n",
        "for i in range(start,end,step):\n",
        "    sum=sum+i\n",
        "    print(\"i is\",i,\"sum equals\",sum)"
      ],
      "execution_count": 8,
      "outputs": [
        {
          "output_type": "stream",
          "text": [
            "Enter a number?3\n",
            "enter a number?13\n",
            "enter a number?3\n",
            "i is 3 sum equals 3\n",
            "i is 6 sum equals 9\n",
            "i is 9 sum equals 18\n",
            "i is 12 sum equals 30\n"
          ],
          "name": "stdout"
        }
      ]
    },
    {
      "cell_type": "code",
      "metadata": {
        "id": "aRFq7CZe7qdc",
        "colab_type": "code",
        "colab": {}
      },
      "source": [
        "\n"
      ],
      "execution_count": 0,
      "outputs": []
    }
  ]
}