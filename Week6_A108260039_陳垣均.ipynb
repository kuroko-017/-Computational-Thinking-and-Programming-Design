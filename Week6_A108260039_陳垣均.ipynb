{
  "nbformat": 4,
  "nbformat_minor": 0,
  "metadata": {
    "colab": {
      "name": "Week6-A108260039-陳垣均.ipynb",
      "provenance": [],
      "include_colab_link": true
    },
    "kernelspec": {
      "name": "python3",
      "display_name": "Python 3"
    }
  },
  "cells": [
    {
      "cell_type": "markdown",
      "metadata": {
        "id": "view-in-github",
        "colab_type": "text"
      },
      "source": [
        "<a href=\"https://colab.research.google.com/github/kuroko-017/-Computational-Thinking-and-Programming-Design/blob/master/Week6_A108260039_%E9%99%B3%E5%9E%A3%E5%9D%87.ipynb\" target=\"_parent\"><img src=\"https://colab.research.google.com/assets/colab-badge.svg\" alt=\"Open In Colab\"/></a>"
      ]
    },
    {
      "cell_type": "code",
      "metadata": {
        "id": "xBgTTPHYJTBp",
        "colab_type": "code",
        "outputId": "f82cb0cd-6110-4cbf-926d-35e49214386c",
        "colab": {
          "base_uri": "https://localhost:8080/",
          "height": 118
        }
      },
      "source": [
        "name=input('請問貴姓大名')\n",
        "print('你好',name)\n",
        "\n",
        "y=int(input('請問年紀?'))\n",
        "print('原來你',y,'歲')\n",
        "\n",
        "w=float(input('請問體重?'))\n",
        "print('體重為',w)"
      ],
      "execution_count": 0,
      "outputs": [
        {
          "output_type": "stream",
          "text": [
            "請問貴姓大名francis\n",
            "你好 francis\n",
            "請問年紀?18\n",
            "原來你 18 歲\n",
            "請問體重?1000\n",
            "體重為 1000.0\n"
          ],
          "name": "stdout"
        }
      ]
    },
    {
      "cell_type": "code",
      "metadata": {
        "id": "yLk2XUyILdbb",
        "colab_type": "code",
        "colab": {
          "base_uri": "https://localhost:8080/",
          "height": 84
        },
        "outputId": "44d7cede-6f35-446c-c706-4237aa14c490"
      },
      "source": [
        "上衣=int(input('請輸入上衣數量?'))\n",
        "褲子=int(input('請輸入褲子數量?'))\n",
        "背心=int(input('請輸入背心數量?'))\n",
        "\n",
        "總金額=上衣*300+褲子*350+背心*400\n",
        "print('訂購服裝的總金額',總金額)"
      ],
      "execution_count": 1,
      "outputs": [
        {
          "output_type": "stream",
          "text": [
            "請輸入上衣數量?30\n",
            "請輸入褲子數量?50\n",
            "請輸入背心數量?20\n",
            "訂購服裝的總金額 34500\n"
          ],
          "name": "stdout"
        }
      ]
    },
    {
      "cell_type": "code",
      "metadata": {
        "id": "PLH0g-oFVI-v",
        "colab_type": "code",
        "colab": {}
      },
      "source": [
        ""
      ],
      "execution_count": 0,
      "outputs": []
    }
  ]
}