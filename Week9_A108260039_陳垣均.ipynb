{
  "nbformat": 4,
  "nbformat_minor": 0,
  "metadata": {
    "colab": {
      "name": "Week9-A108260039-陳垣均.ipynb",
      "provenance": [],
      "include_colab_link": true
    },
    "kernelspec": {
      "name": "python3",
      "display_name": "Python 3"
    }
  },
  "cells": [
    {
      "cell_type": "markdown",
      "metadata": {
        "id": "view-in-github",
        "colab_type": "text"
      },
      "source": [
        "<a href=\"https://colab.research.google.com/github/kuroko-017/-Computational-Thinking-and-Programming-Design/blob/master/Week9_A108260039_%E9%99%B3%E5%9E%A3%E5%9D%87.ipynb\" target=\"_parent\"><img src=\"https://colab.research.google.com/assets/colab-badge.svg\" alt=\"Open In Colab\"/></a>"
      ]
    },
    {
      "cell_type": "code",
      "metadata": {
        "id": "_XzllX4QdHjS",
        "colab_type": "code",
        "colab": {
          "base_uri": "https://localhost:8080/",
          "height": 51
        },
        "outputId": "6325e0a9-785e-4762-cc8f-c5cd4e9f476f"
      },
      "source": [
        "score=int(input('請輸入一個成績?'))\n",
        "if score>=60:\n",
        "  print('很好，請繼續保持下去')"
      ],
      "execution_count": 1,
      "outputs": [
        {
          "output_type": "stream",
          "text": [
            "請輸入一個成績?88\n",
            "很好，請繼續保持下去\n"
          ],
          "name": "stdout"
        }
      ]
    },
    {
      "cell_type": "code",
      "metadata": {
        "id": "dFSyWMoCfEfI",
        "colab_type": "code",
        "colab": {
          "base_uri": "https://localhost:8080/",
          "height": 51
        },
        "outputId": "4414b2f0-6552-4978-d3fe-27bc82395f44"
      },
      "source": [
        "score=int(input('請輸入一個成績?'))\n",
        "if score>=60:\n",
        "  print('有及格ㄡ~')\n",
        "else:\n",
        "  print('不及格ㄟ!')"
      ],
      "execution_count": 2,
      "outputs": [
        {
          "output_type": "stream",
          "text": [
            "請輸入一個成績?55\n",
            "不及格ㄟ!\n"
          ],
          "name": "stdout"
        }
      ]
    },
    {
      "cell_type": "code",
      "metadata": {
        "id": "PquMfSYGgHTm",
        "colab_type": "code",
        "colab": {
          "base_uri": "https://localhost:8080/",
          "height": 51
        },
        "outputId": "13d33f96-524e-456c-c34e-c60141f585a1"
      },
      "source": [
        "score=int(input('請輸入一個成績?'))\n",
        "if score>=80:\n",
        "  print('非常好')\n",
        "elif score>=60:\n",
        "  print('不錯喔')\n",
        "else:\n",
        "  print('要加油')"
      ],
      "execution_count": 3,
      "outputs": [
        {
          "output_type": "stream",
          "text": [
            "請輸入一個成績?66\n",
            "不錯喔\n"
          ],
          "name": "stdout"
        }
      ]
    },
    {
      "cell_type": "code",
      "metadata": {
        "id": "9VdzcARohMgC",
        "colab_type": "code",
        "colab": {
          "base_uri": "https://localhost:8080/",
          "height": 68
        },
        "outputId": "95660b74-1439-4786-ea9a-1238f258bebb"
      },
      "source": [
        "x=float(input('請輸入該點的x座標?'))\n",
        "y=float(input('請輸入該點的y座標?'))\n",
        "if(x>0):\n",
        " if(y>0):\n",
        "  print('該點在第一象限')\n",
        " else:\n",
        "  print('該點在第四象限')\n",
        "else:\n",
        " if(y>0):\n",
        "  print('該點在第二象限')\n",
        " else:\n",
        "  print('該點在第三象限')"
      ],
      "execution_count": 9,
      "outputs": [
        {
          "output_type": "stream",
          "text": [
            "請輸入該點的x座標?1\n",
            "請輸入該點的y座標?1\n",
            "該點在第一象限\n"
          ],
          "name": "stdout"
        }
      ]
    },
    {
      "cell_type": "code",
      "metadata": {
        "id": "NeQnZI_RiqgM",
        "colab_type": "code",
        "colab": {
          "base_uri": "https://localhost:8080/",
          "height": 51
        },
        "outputId": "3aa21b70-94ba-499d-a160-a56f29fee9bf"
      },
      "source": [
        "cost=int(input('請輸入購買金額?'))\n",
        "if cost>=2000:\n",
        "  print(cost*0.9)\n",
        "else:\n",
        "  print(cost)\n"
      ],
      "execution_count": 10,
      "outputs": [
        {
          "output_type": "stream",
          "text": [
            "請輸入購買金額?2000\n",
            "1800.0\n"
          ],
          "name": "stdout"
        }
      ]
    },
    {
      "cell_type": "code",
      "metadata": {
        "id": "HXtt84GhlDfb",
        "colab_type": "code",
        "colab": {
          "base_uri": "https://localhost:8080/",
          "height": 51
        },
        "outputId": "b9b9f6a6-0749-4eee-f948-d00677a5d99a"
      },
      "source": [
        "num=int(input('請輸入一個整數?'))\n",
        "if num%2==0:\n",
        "  print(num,'為偶數')\n",
        "else:\n",
        "  print(num,'為奇數')"
      ],
      "execution_count": 11,
      "outputs": [
        {
          "output_type": "stream",
          "text": [
            "請輸入一個整數?13\n",
            "13 為奇數\n"
          ],
          "name": "stdout"
        }
      ]
    },
    {
      "cell_type": "code",
      "metadata": {
        "id": "1YKhp2GemRds",
        "colab_type": "code",
        "colab": {
          "base_uri": "https://localhost:8080/",
          "height": 51
        },
        "outputId": "d3a4982c-478f-4c76-c21f-686765b10b32"
      },
      "source": [
        "num=int(input('請輸入一個整數?'))\n",
        "if num%2==1:\n",
        "  print(num,'為奇數')\n",
        "else:\n",
        "  print(num,'為偶數')"
      ],
      "execution_count": 13,
      "outputs": [
        {
          "output_type": "stream",
          "text": [
            "請輸入一個整數?13\n",
            "13 為奇數\n"
          ],
          "name": "stdout"
        }
      ]
    },
    {
      "cell_type": "code",
      "metadata": {
        "id": "YUZgPAaNnG0U",
        "colab_type": "code",
        "colab": {}
      },
      "source": [
        ""
      ],
      "execution_count": 0,
      "outputs": []
    }
  ]
}