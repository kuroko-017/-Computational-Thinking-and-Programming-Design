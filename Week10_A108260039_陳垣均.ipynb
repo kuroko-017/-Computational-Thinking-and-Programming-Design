{
  "nbformat": 4,
  "nbformat_minor": 0,
  "metadata": {
    "colab": {
      "name": "Week10-A108260039-陳垣均.ipynb",
      "provenance": [],
      "include_colab_link": true
    },
    "kernelspec": {
      "name": "python3",
      "display_name": "Python 3"
    }
  },
  "cells": [
    {
      "cell_type": "markdown",
      "metadata": {
        "id": "view-in-github",
        "colab_type": "text"
      },
      "source": [
        "<a href=\"https://colab.research.google.com/github/kuroko-017/-Computational-Thinking-and-Programming-Design/blob/master/Week10_A108260039_%E9%99%B3%E5%9E%A3%E5%9D%87.ipynb\" target=\"_parent\"><img src=\"https://colab.research.google.com/assets/colab-badge.svg\" alt=\"Open In Colab\"/></a>"
      ]
    },
    {
      "cell_type": "code",
      "metadata": {
        "id": "7AI67wJTS-_Z",
        "colab_type": "code",
        "colab": {
          "base_uri": "https://localhost:8080/",
          "height": 102
        },
        "outputId": "67d945bf-cf8b-4f73-fe5e-588949beab48"
      },
      "source": [
        "print(\"You are on a deserted island in a 2D world.\")\n",
        "print(\"Try to survive until rescue arrives!\")\n",
        "print(\"Available commands are in CAPITAL letters.\")\n",
        "print(\"Any other command exists the program\")\n",
        "\n",
        "print(\"First LOOK around...\")"
      ],
      "execution_count": 1,
      "outputs": [
        {
          "output_type": "stream",
          "text": [
            "You are on a deserted island in a 2D world.\n",
            "Try to survive until rescue arrives!\n",
            "Available commands are in CAPITAL letters.\n",
            "Any other command exists the program\n",
            "First LOOK around...\n"
          ],
          "name": "stdout"
        }
      ]
    },
    {
      "cell_type": "code",
      "metadata": {
        "id": "6HyTXUUgV-1f",
        "colab_type": "code",
        "colab": {
          "base_uri": "https://localhost:8080/",
          "height": 306
        },
        "outputId": "f62eb35f-4210-4b3b-971e-e5336b407263"
      },
      "source": [
        "do = input(\"::\")\n",
        "if do ==\"LOOK\":\n",
        "  print(\"You are stuck in a sand ditch.\")\n",
        "  print(\"Crawl out LEFT or RIGHT.\")\n",
        "  do = input(\"::\")\n",
        "  if do ==\"LEFT\":\n",
        "    print(\"You see a STARFISH and a CRAB on the sand.\")\n",
        "    print(\"And you're hungry!Which do you eat?\")\n",
        "    do = input(\"::\")\n",
        "    if do ==\"STARFISH\":\n",
        "      print(\"Oh no! You immediately don't feel well.\")\n",
        "      print(\"You do not survive:(\")\n",
        "    elif do ==\"CRAB\":\n",
        "       print(\"Raw crab should be fine, right? YES or NO.\")\n",
        "       do = input(\"::\")\n",
        "       if do ==\"YES\":\n",
        "         print(\"Ok,You eat it raw. Fingers crossed.\")\n",
        "         print(\"Food in your belly helps you see a TREE.\")\n",
        "         do = input(\"::\")\n",
        "         if do ==\"TREE\":\n",
        "           print(\"It's a coconut tree! And you're thirsty!\")\n",
        "           print(\"Do you drink the coconut water? YES or NO.\")\n",
        "           do = input(\"::\")\n",
        "           if do ==\"YES\":\n",
        "             print(\"Oh boy.Coconut water and raw crab don't mix.\")\n",
        "             print(\"You do not survive:(\")\n",
        "           elif do == \"NO\":\n",
        "             print(\"Good choice.\")\n",
        "             print(\"Look! It's a rescue plane! You made it! \\o/\")\n",
        "       elif do ==\"NO\":\n",
        "         print(\"Well, there's nothing else left to eat.\")\n",
        "         print(\"You do not survive:(\")\n",
        "  elif do == \"RIGHT\":\n",
        "     print(\"No can do. That side is very slippery.\")\n",
        "     print(\"You fall very far into some weird cavern.\")\n",
        "     print(\"You do not survive:(\")\n",
        "else:\n",
        "    print(\"You can only do actions shown in capital letters.\")\n",
        "    print(\"Try again!\")         "
      ],
      "execution_count": 24,
      "outputs": [
        {
          "output_type": "stream",
          "text": [
            "::LOOK\n",
            "You are stuck in a sand ditch.\n",
            "Crawl out LEFT or RIGHT.\n",
            "::LEFT\n",
            "You see a STARFISH and a CRAB on the sand.\n",
            "And you're hungry!Which do you eat?\n",
            "::CRAB\n",
            "Raw crab should be fine, right? YES or NO.\n",
            "::YES\n",
            "Ok,You eat it raw. Fingers crossed.\n",
            "Food in your belly helps you see a TREE.\n",
            "::TREE\n",
            "It's a coconut tree! And you're thirsty!\n",
            "Do you drink the coconut water? YES or NO.\n",
            "::YES\n",
            "Oh boy.Coconut water and raw crab don't mix.\n",
            "You do not survive:(\n"
          ],
          "name": "stdout"
        }
      ]
    },
    {
      "cell_type": "code",
      "metadata": {
        "id": "VwrAvE3Ieri_",
        "colab_type": "code",
        "colab": {
          "base_uri": "https://localhost:8080/",
          "height": 153
        },
        "outputId": "79b25ed0-2085-473d-d33b-b21c7da355a7"
      },
      "source": [
        "Limport random\n",
        "my = int(input(\"請出拳 [0] 剪刀 [1] 石頭 [2] 布\"))\n",
        "print(\"我出拳為\", my)\n",
        "computer = random.randint(0, 2)\n",
        "print(\"電腦出拳為\", computer)\n",
        "if my == 0:\n",
        "  if computer == 0:\n",
        "    print('平手')\n",
        "  elif computer == 1:\n",
        "    print('電腦獲勝')\n",
        "  else:\n",
        "    print('玩家獲勝')\n",
        "elif my == 1:\n",
        "  if computer == 0:\n",
        "    print('玩家獲勝')\n",
        "  elif computer == 1:\n",
        "    print('平手')\n",
        "  else:\n",
        "    print('電腦獲勝')\n",
        "else:\n",
        "  if computer == 1:\n",
        "    print('電腦獲勝')\n",
        "  elif computer == 2:\n",
        "    print('玩家獲勝')\n",
        "  else:\n",
        "    print('平手')\n",
        "import random\n",
        "my_choice = int(input(\"請出拳 [0] 剪刀 [1] 石頭 [2] 布\"))\n",
        "print(\"我出拳為\", my_choice)\n",
        "com_choice = random.randint(0, 2)\n",
        "print(\"電腦出拳為\", com_choice)\n",
        "if my_choice == (com_choice + 1) % 3:\n",
        "  print(\"我贏了\")\n",
        "elif my_choice == com_choice:\n",
        "  print(\"平手\")\n",
        "else:\n",
        "  print(\"我輸了\")"
      ],
      "execution_count": 12,
      "outputs": [
        {
          "output_type": "stream",
          "text": [
            "請出拳 [0] 剪刀 [1] 石頭 [2] 布2\n",
            "我出拳為 2\n",
            "電腦出拳為 1\n",
            "電腦獲勝\n",
            "請出拳 [0] 剪刀 [1] 石頭 [2] 布1\n",
            "我出拳為 1\n",
            "電腦出拳為 2\n",
            "我輸了\n"
          ],
          "name": "stdout"
        }
      ]
    },
    {
      "cell_type": "code",
      "metadata": {
        "id": "hzeLQsQ0gWfg",
        "colab_type": "code",
        "colab": {
          "base_uri": "https://localhost:8080/",
          "height": 85
        },
        "outputId": "ce9797a8-0ca3-4086-a6d9-630c7bf6527c"
      },
      "source": [
        "import random\n",
        "my_choice = int(input(\"請出拳 [0] 蟲 [1] 雞 [2] 老虎 [3] 棒子\"))\n",
        "print(\"你出的拳:\", my_choice)\n",
        "com_choice = random.randint(0, 3)\n",
        "print(\"電腦出拳為\", com_choice)\n",
        "if my_choice == (com_choice + 1) % 4:\n",
        "  print(\"我贏了\")\n",
        "elif com_choice == (my_choice + 1) % 4:\n",
        "  print(\"電腦贏了\")\n",
        "else:\n",
        "  print(\"平手\")"
      ],
      "execution_count": 13,
      "outputs": [
        {
          "output_type": "stream",
          "text": [
            "請出拳 [0] 蟲 [1] 雞 [2] 老虎 [3] 棒子2\n",
            "你出的拳: 2\n",
            "電腦出拳為 1\n",
            "我贏了\n"
          ],
          "name": "stdout"
        }
      ]
    },
    {
      "cell_type": "code",
      "metadata": {
        "id": "KSjsW1jWlP1M",
        "colab_type": "code",
        "colab": {}
      },
      "source": [
        ""
      ],
      "execution_count": 0,
      "outputs": []
    }
  ]
}